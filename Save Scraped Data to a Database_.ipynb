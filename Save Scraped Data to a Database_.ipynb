{
 "cells": [
  {
   "cell_type": "markdown",
   "id": "90400f79-6085-4f20-a0de-13b542cbdbcd",
   "metadata": {},
   "source": [
    "### <font color = 'bisque'> Import packages"
   ]
  },
  {
   "cell_type": "code",
   "execution_count": 1,
   "id": "544e4bbf-2d9e-4122-9d6b-52998a361301",
   "metadata": {},
   "outputs": [],
   "source": [
    "# import packages\n",
    "from selenium import webdriver \n",
    "from selenium.webdriver.common.by import By "
   ]
  },
  {
   "cell_type": "code",
   "execution_count": 2,
   "id": "949ee89f-0665-4e3f-9380-bb9a4a182547",
   "metadata": {},
   "outputs": [],
   "source": [
    "# instantiate a Chrome options object\n",
    "options = webdriver.ChromeOptions() \n",
    "# set the options to use Chrome in headless mode (used for running the script in the background)\n",
    "options.add_argument(\"--headless=new\") \n",
    "# initialize an instance of the Chrome driver (browser) in headless mode\n",
    "driver = webdriver.Chrome(options=options)"
   ]
  },
  {
   "cell_type": "markdown",
   "id": "0d568c0b-1074-4e1b-9982-28beb772ec47",
   "metadata": {},
   "source": [
    "### <font color  = 'bisque'> Collect data using selenium and store it in a database"
   ]
  },
  {
   "cell_type": "code",
   "execution_count": 12,
   "id": "3298200e-f020-4943-a234-0e9f05c69b78",
   "metadata": {},
   "outputs": [],
   "source": [
    "url = 'https://www.t-mobile.com/cell-phones'\n",
    "# get the url \n",
    "\n",
    "# find containers\n",
    "\n",
    "# choose the first container to scrape \n",
    "\n",
    "# get the brand \n",
    "\n",
    "# get the model\n",
    "\n",
    "# get the rating and the number of opinions\n",
    "\n",
    "# get the price\n",
    "\n",
    "# print the informations for the first container\n"
   ]
  },
  {
   "cell_type": "code",
   "execution_count": 4,
   "id": "ae56ac12-c4d0-40eb-8e55-1f60c4d266cd",
   "metadata": {},
   "outputs": [],
   "source": [
    "# install sqlite3 \n",
    "#!pip install db-sqlite3"
   ]
  },
  {
   "cell_type": "code",
   "execution_count": 13,
   "id": "3dbda1de-3649-46f5-8c6a-3ef495c4aa4d",
   "metadata": {},
   "outputs": [],
   "source": [
    "# import sqlite3\n",
    "\n",
    "# Create a connection with a database (cell_phones.db)\n",
    "\n",
    "# create a cursor (allows to interact with the database)\n",
    "\n",
    "# create a table\n"
   ]
  },
  {
   "cell_type": "code",
   "execution_count": 8,
   "id": "5f7b4ef7-3bee-4d1f-998c-e63d2ae84dec",
   "metadata": {},
   "outputs": [],
   "source": [
    "# generalize the scraping over all containers and store the data in the database\n"
   ]
  },
  {
   "cell_type": "code",
   "execution_count": 14,
   "id": "d0a95fc7-e85a-457d-8b1c-522fa64a05b9",
   "metadata": {},
   "outputs": [],
   "source": [
    "# convert the table into a dataframe\n"
   ]
  }
 ],
 "metadata": {
  "kernelspec": {
   "display_name": "Python 3 (ipykernel)",
   "language": "python",
   "name": "python3"
  },
  "language_info": {
   "codemirror_mode": {
    "name": "ipython",
    "version": 3
   },
   "file_extension": ".py",
   "mimetype": "text/x-python",
   "name": "python",
   "nbconvert_exporter": "python",
   "pygments_lexer": "ipython3",
   "version": "3.10.12"
  }
 },
 "nbformat": 4,
 "nbformat_minor": 5
}
