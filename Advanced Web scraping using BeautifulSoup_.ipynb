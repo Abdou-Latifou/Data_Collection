{
 "cells": [
  {
   "cell_type": "markdown",
   "metadata": {
    "id": "CbATGAuK0vxv"
   },
   "source": [
    "### <font color = 'gold'> Import packages\n"
   ]
  },
  {
   "cell_type": "code",
   "execution_count": 50,
   "metadata": {
    "executionInfo": {
     "elapsed": 1551,
     "status": "ok",
     "timestamp": 1729783598705,
     "user": {
      "displayName": "Abdoul Wahab Diallo",
      "userId": "07970633565109207524"
     },
     "user_tz": 0
    },
    "id": "wd3BqFqfw29_"
   },
   "outputs": [],
   "source": [
    "# import packages\n",
    "from requests import get\n",
    "from bs4 import BeautifulSoup as bs\n",
    "import pandas as pd"
   ]
  },
  {
   "cell_type": "markdown",
   "metadata": {
    "id": "WsqJsdFBKK_S"
   },
   "source": [
    "### <font color = 'gold'> Collect data over one page"
   ]
  },
  {
   "cell_type": "code",
   "execution_count": 51,
   "metadata": {
    "executionInfo": {
     "elapsed": 2818,
     "status": "ok",
     "timestamp": 1729783612295,
     "user": {
      "displayName": "Abdoul Wahab Diallo",
      "userId": "07970633565109207524"
     },
     "user_tz": 0
    },
    "id": "nVub3Jdc-T1Z"
   },
   "outputs": [],
   "source": [
    "# url\n",
    "url = 'https://www.francefleurs.com/11-fleurs-coupees-do-it-yourself'\n",
    "# get the code html of the page using the get function requests\n",
    "res = get(url)\n",
    "# stock the html in a beautifulsoup objet with a html parser (a parser allows to easily navigate through the html code)\n",
    "soup = bs(res.text, \"html.parser\")"
   ]
  },
  {
   "cell_type": "code",
   "execution_count": 52,
   "metadata": {
    "colab": {
     "base_uri": "https://localhost:8080/"
    },
    "executionInfo": {
     "elapsed": 507,
     "status": "ok",
     "timestamp": 1729783807989,
     "user": {
      "displayName": "Abdoul Wahab Diallo",
      "userId": "07970633565109207524"
     },
     "user_tz": 0
    },
    "id": "HNokzEP1AfAG",
    "outputId": "3c16efc5-b644-4491-e705-2e57be3fab90"
   },
   "outputs": [
    {
     "data": {
      "text/plain": [
       "60"
      ]
     },
     "execution_count": 52,
     "metadata": {},
     "output_type": "execute_result"
    }
   ],
   "source": [
    "# get all containers that contains this information of each car\n",
    "containers = soup.find_all('li', class_ = 'ajax_block_product col-xs-12 col-sm-6 col-md-4')\n",
    "# length de containers\n",
    "len(containers)"
   ]
  },
  {
   "cell_type": "markdown",
   "metadata": {
    "id": "pjKe9VGZHXSN"
   },
   "source": [
    "First, we will start with one container and scrape the data. In that container, we will first try to get the URL of the container and enter inside the container to scrape the informations needed. After we generalize the scraping to the other containers by using a for loop."
   ]
  },
  {
   "cell_type": "code",
   "execution_count": 61,
   "metadata": {
    "colab": {
     "base_uri": "https://localhost:8080/"
    },
    "executionInfo": {
     "elapsed": 1463,
     "status": "ok",
     "timestamp": 1729787020761,
     "user": {
      "displayName": "Abdoul Wahab Diallo",
      "userId": "07970633565109207524"
     },
     "user_tz": 0
    },
    "id": "s3p_gOnzOxXa",
    "outputId": "71978743-6fb1-4385-89a3-f14e9c83063c"
   },
   "outputs": [
    {
     "name": "stdout",
     "output_type": "stream",
     "text": [
      "Rose branchue bombastic blanche (10 tiges) -- 27.90 -- 2.4 -- 5 -- https://www.francefleurs.com/17992-large_default/rose-branchue-bombastic-blanche.jpg\n"
     ]
    }
   ],
   "source": [
    "# scrape data from the first container\n",
    "container = containers[0]\n",
    "# get the url of the container\n",
    "link = container.find(\"a\")[\"href\"]\n",
    "\n",
    "# get the html code of the container\n",
    "res_c = get(link)\n",
    "# store the html code in a beautifulsoup objet with a html parser (a parser allows to easily navigate through the html code)\n",
    "soup_c = bs(res_c.text, 'html.parser')\n",
    "# get the details\n",
    "details = soup_c.find('div', class_ = 'product-title-flex').text.strip()\n",
    "\n",
    "# get the price\n",
    "price = soup_c.find('span', class_ = 'price').text.strip().replace(',','.').replace(' €','')\n",
    "\n",
    "# get the rating\n",
    "rating = soup_c.find('span', class_ = 'ratingValue').text.strip()\n",
    "\n",
    "# get number of opinions\n",
    "number_op = soup_c.find('a', class_ = 'netreviewsProductWidgetNewLink').span.text # span = la specification de la balise\n",
    "\n",
    "# get image link\n",
    "image_link = soup_c.find('div', class_ = 'image-block clearfix hidden-xs hidden-sm').img['src']\n",
    "\n",
    "# print all data for the first container\n",
    "print(details, '--', price, '--', rating, '--', number_op, '--',image_link)"
   ]
  },
  {
   "cell_type": "code",
   "execution_count": 54,
   "metadata": {},
   "outputs": [
    {
     "data": {
      "text/plain": [
       "'5'"
      ]
     },
     "execution_count": 54,
     "metadata": {},
     "output_type": "execute_result"
    }
   ],
   "source": [
    "number_op = soup_c.find('a', class_ = 'netreviewsProductWidgetNewLink').span.text\n",
    "number_op"
   ]
  },
  {
   "cell_type": "code",
   "execution_count": 55,
   "metadata": {
    "executionInfo": {
     "elapsed": 18149,
     "status": "ok",
     "timestamp": 1729787914226,
     "user": {
      "displayName": "Abdoul Wahab Diallo",
      "userId": "07970633565109207524"
     },
     "user_tz": 0
    },
    "id": "XGxES9sq5MeF"
   },
   "outputs": [],
   "source": [
    "# scrape data from all the containers\n",
    "data = []\n",
    "\n",
    "for container in containers:\n",
    "    try:\n",
    "                # scrape data from the first container\n",
    "        container = containers[0]\n",
    "        # get the url of the container\n",
    "        link = container.find(\"a\")[\"href\"]\n",
    "        # get the details\n",
    "        details = soup_c.find('div', class_ = 'product-title-flex').text.strip()\n",
    "\n",
    "        # get the price\n",
    "        price = soup_c.find('span', class_ = 'price').text.strip().replace(',','.').replace(' €','')\n",
    "\n",
    "        # get the rating\n",
    "        rating = soup_c.find('span', class_ = 'ratingValue').text.strip()\n",
    "\n",
    "        # get number of opinions\n",
    "        number_op = soup_c.find('a', class_ = 'netreviewsProductWidgetNewLink').span.text # span = la specification de la balise\n",
    "\n",
    "        # get image link\n",
    "        image_link = soup_c.find('div', class_ = 'image-block clearfix hidden-xs hidden-sm').img['src']\n",
    "\n",
    "        dic = {\n",
    "            \n",
    " 'price': price,\n",
    " 'rating': rating,\n",
    " 'number_op' : number_op,\n",
    " 'image_link': image_link\n",
    "        }\n",
    "        data.append(dic)\n",
    "    except:\n",
    "        pass\n",
    "\n",
    "df = pd.DataFrame(data)"
   ]
  },
  {
   "cell_type": "code",
   "execution_count": 56,
   "metadata": {},
   "outputs": [
    {
     "data": {
      "text/plain": [
       "(60, 4)"
      ]
     },
     "execution_count": 56,
     "metadata": {},
     "output_type": "execute_result"
    }
   ],
   "source": [
    "df.shape"
   ]
  },
  {
   "cell_type": "code",
   "execution_count": 57,
   "metadata": {},
   "outputs": [
    {
     "data": {
      "text/html": [
       "<div>\n",
       "<style scoped>\n",
       "    .dataframe tbody tr th:only-of-type {\n",
       "        vertical-align: middle;\n",
       "    }\n",
       "\n",
       "    .dataframe tbody tr th {\n",
       "        vertical-align: top;\n",
       "    }\n",
       "\n",
       "    .dataframe thead th {\n",
       "        text-align: right;\n",
       "    }\n",
       "</style>\n",
       "<table border=\"1\" class=\"dataframe\">\n",
       "  <thead>\n",
       "    <tr style=\"text-align: right;\">\n",
       "      <th></th>\n",
       "      <th>price</th>\n",
       "      <th>rating</th>\n",
       "      <th>number_op</th>\n",
       "      <th>image_link</th>\n",
       "    </tr>\n",
       "  </thead>\n",
       "  <tbody>\n",
       "    <tr>\n",
       "      <th>0</th>\n",
       "      <td>27.90</td>\n",
       "      <td>2.4</td>\n",
       "      <td>5</td>\n",
       "      <td>https://www.francefleurs.com/17992-large_defau...</td>\n",
       "    </tr>\n",
       "    <tr>\n",
       "      <th>1</th>\n",
       "      <td>27.90</td>\n",
       "      <td>2.4</td>\n",
       "      <td>5</td>\n",
       "      <td>https://www.francefleurs.com/17992-large_defau...</td>\n",
       "    </tr>\n",
       "    <tr>\n",
       "      <th>2</th>\n",
       "      <td>27.90</td>\n",
       "      <td>2.4</td>\n",
       "      <td>5</td>\n",
       "      <td>https://www.francefleurs.com/17992-large_defau...</td>\n",
       "    </tr>\n",
       "    <tr>\n",
       "      <th>3</th>\n",
       "      <td>27.90</td>\n",
       "      <td>2.4</td>\n",
       "      <td>5</td>\n",
       "      <td>https://www.francefleurs.com/17992-large_defau...</td>\n",
       "    </tr>\n",
       "    <tr>\n",
       "      <th>4</th>\n",
       "      <td>27.90</td>\n",
       "      <td>2.4</td>\n",
       "      <td>5</td>\n",
       "      <td>https://www.francefleurs.com/17992-large_defau...</td>\n",
       "    </tr>\n",
       "  </tbody>\n",
       "</table>\n",
       "</div>"
      ],
      "text/plain": [
       "   price rating number_op                                         image_link\n",
       "0  27.90    2.4         5  https://www.francefleurs.com/17992-large_defau...\n",
       "1  27.90    2.4         5  https://www.francefleurs.com/17992-large_defau...\n",
       "2  27.90    2.4         5  https://www.francefleurs.com/17992-large_defau...\n",
       "3  27.90    2.4         5  https://www.francefleurs.com/17992-large_defau...\n",
       "4  27.90    2.4         5  https://www.francefleurs.com/17992-large_defau..."
      ]
     },
     "execution_count": 57,
     "metadata": {},
     "output_type": "execute_result"
    }
   ],
   "source": [
    "df.head()"
   ]
  },
  {
   "cell_type": "code",
   "execution_count": 58,
   "metadata": {
    "colab": {
     "base_uri": "https://localhost:8080/",
     "height": 206
    },
    "executionInfo": {
     "elapsed": 404,
     "status": "ok",
     "timestamp": 1729787974627,
     "user": {
      "displayName": "Abdoul Wahab Diallo",
      "userId": "07970633565109207524"
     },
     "user_tz": 0
    },
    "id": "Xoq4d-SwJybQ",
    "outputId": "3a913f29-1dac-41e1-bbc3-2d50a24478b6"
   },
   "outputs": [],
   "source": [
    "# data from the first page\n"
   ]
  },
  {
   "cell_type": "markdown",
   "metadata": {
    "id": "zSsC9fyxKV7-"
   },
   "source": [
    "### <font color = 'gold'> Collect data over multiple pages"
   ]
  },
  {
   "cell_type": "code",
   "execution_count": 59,
   "metadata": {
    "executionInfo": {
     "elapsed": 257427,
     "status": "ok",
     "timestamp": 1729788632448,
     "user": {
      "displayName": "Abdoul Wahab Diallo",
      "userId": "07970633565109207524"
     },
     "user_tz": 0
    },
    "id": "PlRyDhnRJ9hD"
   },
   "outputs": [],
   "source": [
    "# create a empty dataframe df\n",
    "\n",
    "# loop over pages indexes\n"
   ]
  },
  {
   "cell_type": "markdown",
   "metadata": {
    "id": "-TdVmidXA3Sn"
   },
   "source": [
    "### <font color = 'gold'> Assignment"
   ]
  },
  {
   "cell_type": "code",
   "execution_count": 60,
   "metadata": {
    "id": "MAUnsfgbBB_U"
   },
   "outputs": [],
   "source": [
    "# url\n",
    "url = \"https://www.francefleurs.com/231-les-fleurs-de-mon-mariage\"\n",
    "# scrape over all pages the following informations : details, price, rating, number of opinions, image link\n",
    "# Clean the data"
   ]
  }
 ],
 "metadata": {
  "colab": {
   "authorship_tag": "ABX9TyNCzmN/3zDUtNkSMl94MJ6C",
   "provenance": [
    {
     "file_id": "1xPD2K7UQycFfkb6mH_84Qq-UHu30aNs_",
     "timestamp": 1729783175008
    }
   ]
  },
  "kernelspec": {
   "display_name": "Python 3 (ipykernel)",
   "language": "python",
   "name": "python3"
  },
  "language_info": {
   "codemirror_mode": {
    "name": "ipython",
    "version": 3
   },
   "file_extension": ".py",
   "mimetype": "text/x-python",
   "name": "python",
   "nbconvert_exporter": "python",
   "pygments_lexer": "ipython3",
   "version": "3.10.12"
  }
 },
 "nbformat": 4,
 "nbformat_minor": 4
}
